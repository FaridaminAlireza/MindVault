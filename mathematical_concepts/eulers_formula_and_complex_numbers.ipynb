{
 "cells": [
  {
   "cell_type": "markdown",
   "id": "27d37c3a-fdd6-452c-9f83-7c3d53ce47ce",
   "metadata": {},
   "source": [
    "## Euler's Formula and Complex Numbers\n",
    "\n",
    "Euler's formula is one of the most beautiful and fundamental equations in mathematics. It connects complex numbers with trigonometric functions and exponentials:\n",
    "\n",
    "$$\n",
    "e^{ix} = \\cos(x) + i\\sin(x)\n",
    "$$\n",
    "\n",
    "Where:\n",
    "- $ e $ is the base of the natural logarithm,\n",
    "- $ i $ is the imaginary unit, with $ i^2 = -1 $,\n",
    "- $ x $ is a real number (usually in radians),\n",
    "- $ \\cos(x)$ and $\\sin(x)$ are the cosine and sine of $ x $, respectively.\n",
    "\n",
    "---\n",
    "\n",
    "### Special Case: Euler’s Identity\n",
    "\n",
    "When $ x = \\pi $, the formula becomes:\n",
    "\n",
    "$$\n",
    "e^{i\\pi} + 1 = 0\n",
    "$$\n",
    "\n",
    "This is called **Euler’s identity**, often praised for its elegance because it links five of the most important constants in mathematics: $ e, i, \\pi, 1, 0 $.\n",
    "\n",
    "---\n",
    "\n",
    "### Why It Works:\n",
    "\n",
    "Euler's formula comes from the Taylor series expansions of the exponential, sine, and cosine functions:\n",
    "\n",
    "$$\n",
    "e^{ix} = 1 + ix + \\frac{(ix)^2}{2!} + \\frac{(ix)^3}{3!} + \\cdots\n",
    "$$\n",
    "\n",
    "Expanding and grouping the real and imaginary parts:\n",
    "\n",
    "$$\n",
    "e^{ix} = \\left(1 - \\frac{x^2}{2!} + \\frac{x^4}{4!} - \\cdots \\right)\n",
    "+ i\\left(x - \\frac{x^3}{3!} + \\frac{x^5}{5!} - \\cdots \\right)\n",
    "$$\n",
    "\n",
    "Which is:\n",
    "\n",
    "$$\n",
    "e^{ix} = \\cos(x) + i\\sin(x)\n",
    "$$\n",
    "\n",
    "---\n",
    "\n",
    "This formula is extremely useful in fields like signal processing, quantum mechanics, and anywhere periodic motion or rotations are involved.\n"
   ]
  }
 ],
 "metadata": {
  "kernelspec": {
   "display_name": "Python 3 (ipykernel)",
   "language": "python",
   "name": "python3"
  },
  "language_info": {
   "codemirror_mode": {
    "name": "ipython",
    "version": 3
   },
   "file_extension": ".py",
   "mimetype": "text/x-python",
   "name": "python",
   "nbconvert_exporter": "python",
   "pygments_lexer": "ipython3",
   "version": "3.11.3"
  }
 },
 "nbformat": 4,
 "nbformat_minor": 5
}
