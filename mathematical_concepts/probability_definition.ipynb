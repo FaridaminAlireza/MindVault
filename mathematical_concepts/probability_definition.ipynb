{
 "cells": [
  {
   "cell_type": "markdown",
   "id": "647661cd-b536-4b1d-9d55-92d896deacae",
   "metadata": {},
   "source": [
    "<h4> Sample spaces: </h4>\n",
    "Sample spaces are sets that contain all the possible outcomes of an experiment or random process we are analyzing."
   ]
  },
  {
   "cell_type": "markdown",
   "id": "1fabe13e-3507-4914-b15d-ab90fdd3a0c2",
   "metadata": {},
   "source": [
    "If we consider the number of ways to arrange $n$ objects in order, we observe that:\n",
    "\n",
    "When we add the $ n $th object, it can be inserted into any of the $ n $ positions in each of the permutations of the remaining $ n - 1 $ objects.\n",
    "\n",
    "Therefore, the total number of possible permutations of $ n $ distinct objects is:\n",
    "\n",
    "$$\n",
    "n! = n \\cdot (n - 1) \\cdot (n - 2) \\cdots 3 \\cdot 2 \\cdot 1\n",
    "$$\n"
   ]
  },
  {
   "cell_type": "markdown",
   "id": "340e49eb-cb74-4962-93a6-9c0ec38f94f6",
   "metadata": {},
   "source": [
    "### Events\n",
    "\n",
    "Subsets of the sample space are called **events**. An event $ A $ occurs if the outcome of the experiment is an element of the set $ A $.\n",
    "\n",
    "Consider the experiment of rolling a fair six-sided die. The sample space is:\n",
    "\n",
    "$$\n",
    "\\Omega = \\{1, 2, 3, 4, 5, 6\\}\n",
    "$$\n",
    "\n",
    "- Let $ E $ be the event that an **even number** is rolled:\n",
    "  $$\n",
    "  E = \\{2, 4, 6\\}\n",
    "  $$\n",
    "\n",
    "- Let $ G $ be the event that the outcome is **greater than 3**:\n",
    "  $$\n",
    "  G = \\{4, 5, 6\\}\n",
    "  $$\n",
    "\n",
    "These events can be combined using standard set operations. For example, the intersection $ E \\cap G $ (i.e., even numbers greater than 3) is:\n",
    "\n",
    "$$\n",
    "E \\cap G = \\{4, 6\\}\n",
    "$$\n",
    "\n"
   ]
  },
  {
   "cell_type": "markdown",
   "id": "da774818-7ecd-4f1d-bb2a-7972ff21d74c",
   "metadata": {},
   "source": [
    "DeMorgan's laws: For any two events A and B:\n",
    "$$ (A \\cup B)^c = A^c \\cap B^c  \\text{  and  } (A \\cap B)^c = A^c \\cup B^c $$"
   ]
  },
  {
   "cell_type": "markdown",
   "id": "a1cd7c64-fa21-4613-a831-d6bb73cd296f",
   "metadata": {},
   "source": [
    "### Probability Function $P$\n",
    "\n",
    "A **probability function** $P$ on a finite or infinite sample space $ \\Omega $ assigns to each event $ A \\subseteq \\Omega $ a number $ P(A) \\in [0, 1] $ such that:\n",
    "\n",
    "1. $P(\\Omega) = 1$\n",
    "\n",
    "2. If $ A_1, A_2, A_3, \\dots $ are disjoint events (i.e., no two events share an outcome), then:\n",
    "   $\n",
    "   P(A_1 \\cup A_2 \\cup A_3 \\cup \\dots) = P(A_1) + P(A_2) + P(A_3) + \\dots\n",
    "   $\n",
    "\n",
    "The value $ P(A) $ represents the **probability that event $ A $ occurs**.\n"
   ]
  },
  {
   "cell_type": "markdown",
   "id": "db92fafb-4a2a-43a4-b0e1-4f410c6584c9",
   "metadata": {},
   "source": [
    "Example: The experiments with two outcomes failure and success have probability 1 - p and p to occur,\n",
    "where p is a number between 0 and 1."
   ]
  },
  {
   "cell_type": "markdown",
   "id": "190906cd-a818-4f52-8e1b-5b7dbc995aa2",
   "metadata": {},
   "source": [
    "<br>We can write A as a disjoint union:\n",
    "$P(A) = P(A \\cap B) + P(A \\cap B^c)$\n"
   ]
  },
  {
   "cell_type": "markdown",
   "id": "ba1c74c8-46fd-4752-8ad6-7ab2095a0674",
   "metadata": {},
   "source": [
    "The probablity of union: $P(A \\cup B) = P(A) + P(B) - P (A \\cap B)$ <br>\n",
    "The probability of complement: $A \\cup A^c = \\Omega$,  $P(A^c) = 1 - P(A)$"
   ]
  },
  {
   "cell_type": "markdown",
   "id": "7389e612-63f6-4157-8944-2dee09998377",
   "metadata": {},
   "source": [
    "<H4>Product of sample spaces</H4>\n",
    "\n",
    "$$\\Omega = \\Omega_1 \\times \\Omega_2 \\times \\Omega_3 = {(\\omega_1, \\omega_2, \\omega_3): \\omega_1 \\subset \\Omega_1, \\omega_2 \\subset \\Omega_2, \\omega_3 \\subset \\Omega_3  }$$"
   ]
  },
  {
   "cell_type": "markdown",
   "id": "cb40efcc-d43c-479d-bb43-ea486e6473f6",
   "metadata": {},
   "source": [
    "### Example: Tossing a Biased Coin Three Times\n",
    "\n",
    "Suppose we repeat an experiment three times—flipping a biased coin—where the outcome of each flip is either 1 (heads/success) or 0 (tails/failure). Let the probability of heads be $ p $, and tails be $ 1 - p $.\n",
    "\n",
    "Now consider the event $ A $: *\"Exactly one of the three flips results in heads.\"*  \n",
    "This event consists of the following outcomes:\n",
    "\n",
    "$$\n",
    "A = \\{(1, 0, 0), (0, 1, 0), (0, 0, 1)\\}\n",
    "$$\n",
    "\n",
    "The sample space is:\n",
    "\n",
    "$$\n",
    "\\Omega = \\{0,1\\} \\times \\{0,1\\} \\times \\{0,1\\}\n",
    "$$\n",
    "\n",
    "Each outcome in $ A $ has a probability of $ p(1 - p)^2 $, since one flip is a success (heads) and the other two are failures (tails).\n",
    "\n",
    "There are 3 such outcomes in total, so the probability of event $ A $ is:\n",
    "\n",
    "$$\n",
    "P(A) = 3 \\cdot p \\cdot (1 - p)^2\n",
    "$$\n"
   ]
  },
  {
   "cell_type": "markdown",
   "id": "59c203fc-cd36-4387-b495-254688171d40",
   "metadata": {},
   "source": [
    "### General Probability Function for Independent Events\n",
    "\n",
    "More generally, if the sample space $ \\Omega $ is the Cartesian product of $ n $ independent sample spaces:\n",
    "\n",
    "$$\n",
    "\\Omega = \\Omega_1 \\times \\Omega_2 \\times \\dots \\times \\Omega_n\n",
    "$$\n",
    "\n",
    "Then the probability of an outcome $ (\\omega_1, \\omega_2, \\dots, \\omega_n) $ is the product of the probabilities of each individual outcome:\n",
    "\n",
    "$$\n",
    "P((\\omega_1, \\omega_2, \\dots, \\omega_n)) = p_1 \\cdot p_2 \\cdot \\dots \\cdot p_n\n",
    "$$\n",
    "\n",
    "where each $ \\omega_i $ has probability $ p_i $.\n"
   ]
  }
 ],
 "metadata": {
  "kernelspec": {
   "display_name": "Python 3 (ipykernel)",
   "language": "python",
   "name": "python3"
  },
  "language_info": {
   "codemirror_mode": {
    "name": "ipython",
    "version": 3
   },
   "file_extension": ".py",
   "mimetype": "text/x-python",
   "name": "python",
   "nbconvert_exporter": "python",
   "pygments_lexer": "ipython3",
   "version": "3.11.3"
  }
 },
 "nbformat": 4,
 "nbformat_minor": 5
}
