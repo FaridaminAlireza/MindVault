{
 "cells": [
  {
   "cell_type": "markdown",
   "id": "58962a70-63d6-46f5-b2e1-d897b2b4009e",
   "metadata": {},
   "source": [
    "# Sine and Cosine Waves: Overview\n",
    "\n",
    "Sine and Cosine are fundamental trigonometric functions used to model periodic behaviors, such as sound waves, electrical signals, and oscillations. They are periodic functions, meaning they repeat after a certain interval called the **period**.\n",
    "\n",
    "### Key Concepts\n",
    "- **Period (T)**: The duration (time) it takes for the function to complete one full cycle.\n",
    "  $\n",
    "  T = \\frac{1}{f}\n",
    "  $\n",
    "  where $ f $ is the **frequency**.\n",
    "  \n",
    "- **Frequency $(f)$**: The number of complete cycles the function undergoes per unit of time (usually per second).\n",
    "  $\n",
    "  f = \\frac{1}{T}\n",
    "  $\n",
    "\n",
    "- **Phase $( \\Phi )$**: The horizontal shift of the wave. It determines where the wave starts in its cycle at time \\( t = 0 \\).\n",
    "\n",
    "### General Forms\n",
    "- **Sine wave**: \n",
    "  $$\n",
    "  y(t) = A \\sin(2 \\pi f t + \\Phi)\n",
    "  $$\n",
    "- **Cosine wave**:\n",
    "  $$\n",
    "  y(t) = A \\cos(2 \\pi f t + \\Phi)\n",
    "  $$\n",
    "\n",
    "Where:\n",
    "- $ A $ is the amplitude (the peak value).\n",
    "- $ f $ is the frequency (in Hz).\n",
    "- $ t $ is time.\n",
    "- $ \\Phi $ is the phase shift (in radians).\n"
   ]
  },
  {
   "cell_type": "code",
   "execution_count": null,
   "id": "efc29f2b-9122-4b9c-a4e7-91dc642861b9",
   "metadata": {},
   "outputs": [],
   "source": []
  }
 ],
 "metadata": {
  "kernelspec": {
   "display_name": "Python 3 (ipykernel)",
   "language": "python",
   "name": "python3"
  },
  "language_info": {
   "codemirror_mode": {
    "name": "ipython",
    "version": 3
   },
   "file_extension": ".py",
   "mimetype": "text/x-python",
   "name": "python",
   "nbconvert_exporter": "python",
   "pygments_lexer": "ipython3",
   "version": "3.11.3"
  }
 },
 "nbformat": 4,
 "nbformat_minor": 5
}
